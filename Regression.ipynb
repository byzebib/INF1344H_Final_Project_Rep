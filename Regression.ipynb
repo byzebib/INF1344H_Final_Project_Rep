{
  "nbformat": 4,
  "nbformat_minor": 0,
  "metadata": {
    "colab": {
      "name": "Regression.ipynb",
      "provenance": []
    },
    "kernelspec": {
      "name": "python3",
      "display_name": "Python 3"
    },
    "language_info": {
      "name": "python"
    }
  },
  "cells": [
    {
      "cell_type": "code",
      "metadata": {
        "colab": {
          "base_uri": "https://localhost:8080/",
          "height": 206
        },
        "id": "fupETXiMdYKN",
        "outputId": "88023257-78ed-4ccd-81e6-6f050495e927"
      },
      "source": [
        "import pandas as pd\n",
        "import numpy as np\n",
        "import matplotlib.pyplot as plt\n",
        "import seaborn as sns\n",
        "%matplotlib inline \n",
        "from sklearn import preprocessing\n",
        "\n",
        "court_data = pd.read_csv('https://raw.githubusercontent.com/bparsazadeh/INF1344H_Final_Project_Rep/main/court_prep_2.csv')\n",
        "\n",
        "\n",
        "court_df = pd.DataFrame(court_data)\n",
        "court_df.head()"
      ],
      "execution_count": 2,
      "outputs": [
        {
          "output_type": "execute_result",
          "data": {
            "text/html": [
              "<div>\n",
              "<style scoped>\n",
              "    .dataframe tbody tr th:only-of-type {\n",
              "        vertical-align: middle;\n",
              "    }\n",
              "\n",
              "    .dataframe tbody tr th {\n",
              "        vertical-align: top;\n",
              "    }\n",
              "\n",
              "    .dataframe thead th {\n",
              "        text-align: right;\n",
              "    }\n",
              "</style>\n",
              "<table border=\"1\" class=\"dataframe\">\n",
              "  <thead>\n",
              "    <tr style=\"text-align: right;\">\n",
              "      <th></th>\n",
              "      <th>Gender</th>\n",
              "      <th>Year</th>\n",
              "      <th>charge</th>\n",
              "      <th>court_d</th>\n",
              "      <th>prep_h</th>\n",
              "    </tr>\n",
              "  </thead>\n",
              "  <tbody>\n",
              "    <tr>\n",
              "      <th>0</th>\n",
              "      <td>Female</td>\n",
              "      <td>2018</td>\n",
              "      <td>Attempt Murder</td>\n",
              "      <td>1</td>\n",
              "      <td>180.0</td>\n",
              "    </tr>\n",
              "    <tr>\n",
              "      <th>1</th>\n",
              "      <td>Female</td>\n",
              "      <td>2011</td>\n",
              "      <td>Attempt Murder</td>\n",
              "      <td>4</td>\n",
              "      <td>192.0</td>\n",
              "    </tr>\n",
              "    <tr>\n",
              "      <th>2</th>\n",
              "      <td>Female</td>\n",
              "      <td>2019</td>\n",
              "      <td>Attempt Murder</td>\n",
              "      <td>2</td>\n",
              "      <td>193.0</td>\n",
              "    </tr>\n",
              "    <tr>\n",
              "      <th>3</th>\n",
              "      <td>Male</td>\n",
              "      <td>2014</td>\n",
              "      <td>Attempt Murder</td>\n",
              "      <td>15</td>\n",
              "      <td>203.0</td>\n",
              "    </tr>\n",
              "    <tr>\n",
              "      <th>4</th>\n",
              "      <td>Female</td>\n",
              "      <td>2010</td>\n",
              "      <td>Attempt Murder</td>\n",
              "      <td>1</td>\n",
              "      <td>150.0</td>\n",
              "    </tr>\n",
              "  </tbody>\n",
              "</table>\n",
              "</div>"
            ],
            "text/plain": [
              "   Gender  Year          charge  court_d  prep_h\n",
              "0  Female  2018  Attempt Murder        1   180.0\n",
              "1  Female  2011  Attempt Murder        4   192.0\n",
              "2  Female  2019  Attempt Murder        2   193.0\n",
              "3    Male  2014  Attempt Murder       15   203.0\n",
              "4  Female  2010  Attempt Murder        1   150.0"
            ]
          },
          "metadata": {},
          "execution_count": 2
        }
      ]
    },
    {
      "cell_type": "code",
      "metadata": {
        "id": "cGavP6EaMCn5",
        "colab": {
          "base_uri": "https://localhost:8080/"
        },
        "outputId": "cd271e2a-eebd-46fe-9e09-3a247e6de055"
      },
      "source": [
        "court_df.info()"
      ],
      "execution_count": 3,
      "outputs": [
        {
          "output_type": "stream",
          "name": "stdout",
          "text": [
            "<class 'pandas.core.frame.DataFrame'>\n",
            "RangeIndex: 1882 entries, 0 to 1881\n",
            "Data columns (total 5 columns):\n",
            " #   Column   Non-Null Count  Dtype  \n",
            "---  ------   --------------  -----  \n",
            " 0   Gender   1882 non-null   object \n",
            " 1   Year     1882 non-null   int64  \n",
            " 2   charge   1882 non-null   object \n",
            " 3   court_d  1882 non-null   int64  \n",
            " 4   prep_h   1882 non-null   float64\n",
            "dtypes: float64(1), int64(2), object(2)\n",
            "memory usage: 73.6+ KB\n"
          ]
        }
      ]
    },
    {
      "cell_type": "code",
      "metadata": {
        "colab": {
          "base_uri": "https://localhost:8080/",
          "height": 417
        },
        "id": "JRxYLc5sMZUw",
        "outputId": "b560c4a2-1f56-4b56-dd47-4646be5e8ff7"
      },
      "source": [
        "charge_count = court_df['charge'].value_counts()\n",
        "sns.set(style=\"darkgrid\")\n",
        "sns.barplot(charge_count.index, charge_count.values, alpha=0.9)\n",
        "plt.title('Frequency Distribution of Charges')\n",
        "plt.ylabel('Number of Occurrences', fontsize=12)\n",
        "plt.xlabel('Charge', fontsize=12)\n",
        "\n",
        "plt.xticks(rotation=45)\n",
        "plt.show()"
      ],
      "execution_count": 4,
      "outputs": [
        {
          "output_type": "stream",
          "name": "stderr",
          "text": [
            "/usr/local/lib/python3.7/dist-packages/seaborn/_decorators.py:43: FutureWarning: Pass the following variables as keyword args: x, y. From version 0.12, the only valid positional argument will be `data`, and passing other arguments without an explicit keyword will result in an error or misinterpretation.\n",
            "  FutureWarning\n"
          ]
        },
        {
          "output_type": "display_data",
          "data": {
            "image/png": "[encoded data removed]",
            "text/plain": [
              "<Figure size 432x288 with 1 Axes>"
            ]
          },
          "metadata": {}
        }
      ]
    },
    {
      "cell_type": "code",
      "metadata": {
        "colab": {
          "base_uri": "https://localhost:8080/",
          "height": 424
        },
        "id": "cWBSAzz44nhQ",
        "outputId": "9c3a4fe9-2995-4733-e07c-116ccde5053a"
      },
      "source": [
        "court_df.iloc[:, [2,3,4]]"
      ],
      "execution_count": 5,
      "outputs": [
        {
          "output_type": "execute_result",
          "data": {
            "text/html": [
              "<div>\n",
              "<style scoped>\n",
              "    .dataframe tbody tr th:only-of-type {\n",
              "        vertical-align: middle;\n",
              "    }\n",
              "\n",
              "    .dataframe tbody tr th {\n",
              "        vertical-align: top;\n",
              "    }\n",
              "\n",
              "    .dataframe thead th {\n",
              "        text-align: right;\n",
              "    }\n",
              "</style>\n",
              "<table border=\"1\" class=\"dataframe\">\n",
              "  <thead>\n",
              "    <tr style=\"text-align: right;\">\n",
              "      <th></th>\n",
              "      <th>charge</th>\n",
              "      <th>court_d</th>\n",
              "      <th>prep_h</th>\n",
              "    </tr>\n",
              "  </thead>\n",
              "  <tbody>\n",
              "    <tr>\n",
              "      <th>0</th>\n",
              "      <td>Attempt Murder</td>\n",
              "      <td>1</td>\n",
              "      <td>180.0</td>\n",
              "    </tr>\n",
              "    <tr>\n",
              "      <th>1</th>\n",
              "      <td>Attempt Murder</td>\n",
              "      <td>4</td>\n",
              "      <td>192.0</td>\n",
              "    </tr>\n",
              "    <tr>\n",
              "      <th>2</th>\n",
              "      <td>Attempt Murder</td>\n",
              "      <td>2</td>\n",
              "      <td>193.0</td>\n",
              "    </tr>\n",
              "    <tr>\n",
              "      <th>3</th>\n",
              "      <td>Attempt Murder</td>\n",
              "      <td>15</td>\n",
              "      <td>203.0</td>\n",
              "    </tr>\n",
              "    <tr>\n",
              "      <th>4</th>\n",
              "      <td>Attempt Murder</td>\n",
              "      <td>1</td>\n",
              "      <td>150.0</td>\n",
              "    </tr>\n",
              "    <tr>\n",
              "      <th>...</th>\n",
              "      <td>...</td>\n",
              "      <td>...</td>\n",
              "      <td>...</td>\n",
              "    </tr>\n",
              "    <tr>\n",
              "      <th>1877</th>\n",
              "      <td>Robbery</td>\n",
              "      <td>57</td>\n",
              "      <td>371.0</td>\n",
              "    </tr>\n",
              "    <tr>\n",
              "      <th>1878</th>\n",
              "      <td>Robbery</td>\n",
              "      <td>44</td>\n",
              "      <td>376.0</td>\n",
              "    </tr>\n",
              "    <tr>\n",
              "      <th>1879</th>\n",
              "      <td>Robbery</td>\n",
              "      <td>57</td>\n",
              "      <td>377.0</td>\n",
              "    </tr>\n",
              "    <tr>\n",
              "      <th>1880</th>\n",
              "      <td>Robbery</td>\n",
              "      <td>32</td>\n",
              "      <td>378.0</td>\n",
              "    </tr>\n",
              "    <tr>\n",
              "      <th>1881</th>\n",
              "      <td>Robbery</td>\n",
              "      <td>48</td>\n",
              "      <td>339.0</td>\n",
              "    </tr>\n",
              "  </tbody>\n",
              "</table>\n",
              "<p>1882 rows × 3 columns</p>\n",
              "</div>"
            ],
            "text/plain": [
              "              charge  court_d  prep_h\n",
              "0     Attempt Murder        1   180.0\n",
              "1     Attempt Murder        4   192.0\n",
              "2     Attempt Murder        2   193.0\n",
              "3     Attempt Murder       15   203.0\n",
              "4     Attempt Murder        1   150.0\n",
              "...              ...      ...     ...\n",
              "1877         Robbery       57   371.0\n",
              "1878         Robbery       44   376.0\n",
              "1879         Robbery       57   377.0\n",
              "1880         Robbery       32   378.0\n",
              "1881         Robbery       48   339.0\n",
              "\n",
              "[1882 rows x 3 columns]"
            ]
          },
          "metadata": {},
          "execution_count": 5
        }
      ]
    },
    {
      "cell_type": "code",
      "metadata": {
        "id": "kbngnaXsedOx"
      },
      "source": [
        "#Set independent and dependent variable \n",
        "#Charge\n",
        "x = court_df.iloc[:, [3]].values\n",
        "#Prep hours\n",
        "y = court_df.iloc[:, [4]].values"
      ],
      "execution_count": 6,
      "outputs": []
    },
    {
      "cell_type": "code",
      "metadata": {
        "id": "yqMf1eanedbu"
      },
      "source": [
        "from sklearn.model_selection import train_test_split\n",
        "X_train, x_test, y_train, y_test = train_test_split(x, y, test_size=1/3, random_state=0)"
      ],
      "execution_count": 7,
      "outputs": []
    },
    {
      "cell_type": "code",
      "metadata": {
        "colab": {
          "base_uri": "https://localhost:8080/"
        },
        "id": "XGx70pwshKoq",
        "outputId": "2bd62f27-9fe1-4491-bd76-f99f5b726bac"
      },
      "source": [
        "from sklearn.linear_model import LinearRegression\n",
        "regressor = LinearRegression()\n",
        "regressor.fit(X_train, y_train)"
      ],
      "execution_count": 8,
      "outputs": [
        {
          "output_type": "execute_result",
          "data": {
            "text/plain": [
              "LinearRegression()"
            ]
          },
          "metadata": {},
          "execution_count": 8
        }
      ]
    },
    {
      "cell_type": "code",
      "metadata": {
        "id": "RZtsUGrClEqM"
      },
      "source": [
        "y_pred = regressor.predict(x_test)"
      ],
      "execution_count": 9,
      "outputs": []
    },
    {
      "cell_type": "code",
      "metadata": {
        "colab": {
          "base_uri": "https://localhost:8080/",
          "height": 301
        },
        "id": "-6C42kMklLKb",
        "outputId": "9ef7986c-ba50-4293-d3d5-865570089e83"
      },
      "source": [
        "plt.scatter(X_train, y_train, color='red')\n",
        "plt.plot(X_train,regressor.predict(X_train), color = 'blue')\n",
        "plt.title(\"Prep Hours vs Court Days\")\n",
        "plt.xlabel(\"Prep hours\")\n",
        "plt.ylabel(\"Court Days\")\n",
        "plt.show()"
      ],
      "execution_count": 10,
      "outputs": [
        {
          "output_type": "display_data",
          "data": {
            "image/png": "[encoded data removed]",
            "text/plain": [
              "<Figure size 432x288 with 1 Axes>"
            ]
          },
          "metadata": {}
        }
      ]
    },
    {
      "cell_type": "code",
      "metadata": {
        "id": "KRuXYh3ZoApk",
        "colab": {
          "base_uri": "https://localhost:8080/",
          "height": 206
        },
        "outputId": "8a93d5fa-af2b-4af3-8f41-ac5ad3895ddc"
      },
      "source": [
        "X = court_df[['charge','Gender']]\n",
        "X = pd.get_dummies(data=X, drop_first=True)\n",
        "X.head()"
      ],
      "execution_count": 11,
      "outputs": [
        {
          "output_type": "execute_result",
          "data": {
            "text/html": [
              "<div>\n",
              "<style scoped>\n",
              "    .dataframe tbody tr th:only-of-type {\n",
              "        vertical-align: middle;\n",
              "    }\n",
              "\n",
              "    .dataframe tbody tr th {\n",
              "        vertical-align: top;\n",
              "    }\n",
              "\n",
              "    .dataframe thead th {\n",
              "        text-align: right;\n",
              "    }\n",
              "</style>\n",
              "<table border=\"1\" class=\"dataframe\">\n",
              "  <thead>\n",
              "    <tr style=\"text-align: right;\">\n",
              "      <th></th>\n",
              "      <th>charge_Murder</th>\n",
              "      <th>charge_Narcotics</th>\n",
              "      <th>charge_Other</th>\n",
              "      <th>charge_Robbery</th>\n",
              "      <th>charge_Sexual Assault</th>\n",
              "      <th>charge_Weapons</th>\n",
              "      <th>Gender_Male</th>\n",
              "      <th>Gender_Unisex</th>\n",
              "      <th>Gender_Unknown</th>\n",
              "    </tr>\n",
              "  </thead>\n",
              "  <tbody>\n",
              "    <tr>\n",
              "      <th>0</th>\n",
              "      <td>0</td>\n",
              "      <td>0</td>\n",
              "      <td>0</td>\n",
              "      <td>0</td>\n",
              "      <td>0</td>\n",
              "      <td>0</td>\n",
              "      <td>0</td>\n",
              "      <td>0</td>\n",
              "      <td>0</td>\n",
              "    </tr>\n",
              "    <tr>\n",
              "      <th>1</th>\n",
              "      <td>0</td>\n",
              "      <td>0</td>\n",
              "      <td>0</td>\n",
              "      <td>0</td>\n",
              "      <td>0</td>\n",
              "      <td>0</td>\n",
              "      <td>0</td>\n",
              "      <td>0</td>\n",
              "      <td>0</td>\n",
              "    </tr>\n",
              "    <tr>\n",
              "      <th>2</th>\n",
              "      <td>0</td>\n",
              "      <td>0</td>\n",
              "      <td>0</td>\n",
              "      <td>0</td>\n",
              "      <td>0</td>\n",
              "      <td>0</td>\n",
              "      <td>0</td>\n",
              "      <td>0</td>\n",
              "      <td>0</td>\n",
              "    </tr>\n",
              "    <tr>\n",
              "      <th>3</th>\n",
              "      <td>0</td>\n",
              "      <td>0</td>\n",
              "      <td>0</td>\n",
              "      <td>0</td>\n",
              "      <td>0</td>\n",
              "      <td>0</td>\n",
              "      <td>1</td>\n",
              "      <td>0</td>\n",
              "      <td>0</td>\n",
              "    </tr>\n",
              "    <tr>\n",
              "      <th>4</th>\n",
              "      <td>0</td>\n",
              "      <td>0</td>\n",
              "      <td>0</td>\n",
              "      <td>0</td>\n",
              "      <td>0</td>\n",
              "      <td>0</td>\n",
              "      <td>0</td>\n",
              "      <td>0</td>\n",
              "      <td>0</td>\n",
              "    </tr>\n",
              "  </tbody>\n",
              "</table>\n",
              "</div>"
            ],
            "text/plain": [
              "   charge_Murder  charge_Narcotics  ...  Gender_Unisex  Gender_Unknown\n",
              "0              0                 0  ...              0               0\n",
              "1              0                 0  ...              0               0\n",
              "2              0                 0  ...              0               0\n",
              "3              0                 0  ...              0               0\n",
              "4              0                 0  ...              0               0\n",
              "\n",
              "[5 rows x 9 columns]"
            ]
          },
          "metadata": {},
          "execution_count": 11
        }
      ]
    },
    {
      "cell_type": "code",
      "metadata": {
        "id": "NcrLT58fQyE9"
      },
      "source": [
        "Y = court_df['prep_h']\n",
        "from sklearn.model_selection import train_test_split"
      ],
      "execution_count": 12,
      "outputs": []
    },
    {
      "cell_type": "code",
      "metadata": {
        "colab": {
          "base_uri": "https://localhost:8080/"
        },
        "id": "ASYEk5eARGjZ",
        "outputId": "26b91e93-3061-423c-eeb2-7fa23a61e11c"
      },
      "source": [
        "X_train, X_test, y_train, y_test = train_test_split(X, Y, test_size=0.4, random_state=101)\n",
        "print(X_train.shape)\n",
        "print(X_test.shape)\n",
        "print(y_train.shape)\n",
        "print(y_test.shape)"
      ],
      "execution_count": 13,
      "outputs": [
        {
          "output_type": "stream",
          "name": "stdout",
          "text": [
            "(1129, 9)\n",
            "(753, 9)\n",
            "(1129,)\n",
            "(753,)\n"
          ]
        }
      ]
    },
    {
      "cell_type": "code",
      "metadata": {
        "colab": {
          "base_uri": "https://localhost:8080/"
        },
        "id": "l7sfO6viRQoM",
        "outputId": "b1a2942f-5d01-4df5-f5c5-92e7defcd0d7"
      },
      "source": [
        "from sklearn.linear_model import LinearRegression\n",
        "\n",
        "model = LinearRegression()\n",
        "model.fit(X_train,y_train)"
      ],
      "execution_count": 14,
      "outputs": [
        {
          "output_type": "execute_result",
          "data": {
            "text/plain": [
              "LinearRegression()"
            ]
          },
          "metadata": {},
          "execution_count": 14
        }
      ]
    },
    {
      "cell_type": "code",
      "metadata": {
        "colab": {
          "base_uri": "https://localhost:8080/"
        },
        "id": "F_X0xC7WRVcO",
        "outputId": "aa905d47-770c-4230-8b83-2d532c6d8676"
      },
      "source": [
        "# print the intercept\n",
        "print(model.intercept_)"
      ],
      "execution_count": 15,
      "outputs": [
        {
          "output_type": "stream",
          "name": "stdout",
          "text": [
            "310.1952239512404\n"
          ]
        }
      ]
    },
    {
      "cell_type": "code",
      "metadata": {
        "colab": {
          "base_uri": "https://localhost:8080/",
          "height": 332
        },
        "id": "BZQjuNQMRYmB",
        "outputId": "f11f3924-74d7-4da0-8761-4d3302418c56"
      },
      "source": [
        "coeff_parameter = pd.DataFrame(model.coef_,X.columns,columns=['Coefficient'])\n",
        "coeff_parameter"
      ],
      "execution_count": 16,
      "outputs": [
        {
          "output_type": "execute_result",
          "data": {
            "text/html": [
              "<div>\n",
              "<style scoped>\n",
              "    .dataframe tbody tr th:only-of-type {\n",
              "        vertical-align: middle;\n",
              "    }\n",
              "\n",
              "    .dataframe tbody tr th {\n",
              "        vertical-align: top;\n",
              "    }\n",
              "\n",
              "    .dataframe thead th {\n",
              "        text-align: right;\n",
              "    }\n",
              "</style>\n",
              "<table border=\"1\" class=\"dataframe\">\n",
              "  <thead>\n",
              "    <tr style=\"text-align: right;\">\n",
              "      <th></th>\n",
              "      <th>Coefficient</th>\n",
              "    </tr>\n",
              "  </thead>\n",
              "  <tbody>\n",
              "    <tr>\n",
              "      <th>charge_Murder</th>\n",
              "      <td>72.567481</td>\n",
              "    </tr>\n",
              "    <tr>\n",
              "      <th>charge_Narcotics</th>\n",
              "      <td>21.893886</td>\n",
              "    </tr>\n",
              "    <tr>\n",
              "      <th>charge_Other</th>\n",
              "      <td>15.887407</td>\n",
              "    </tr>\n",
              "    <tr>\n",
              "      <th>charge_Robbery</th>\n",
              "      <td>-37.068702</td>\n",
              "    </tr>\n",
              "    <tr>\n",
              "      <th>charge_Sexual Assault</th>\n",
              "      <td>-10.251452</td>\n",
              "    </tr>\n",
              "    <tr>\n",
              "      <th>charge_Weapons</th>\n",
              "      <td>8.513574</td>\n",
              "    </tr>\n",
              "    <tr>\n",
              "      <th>Gender_Male</th>\n",
              "      <td>-1.184364</td>\n",
              "    </tr>\n",
              "    <tr>\n",
              "      <th>Gender_Unisex</th>\n",
              "      <td>-20.286813</td>\n",
              "    </tr>\n",
              "    <tr>\n",
              "      <th>Gender_Unknown</th>\n",
              "      <td>-19.871271</td>\n",
              "    </tr>\n",
              "  </tbody>\n",
              "</table>\n",
              "</div>"
            ],
            "text/plain": [
              "                       Coefficient\n",
              "charge_Murder            72.567481\n",
              "charge_Narcotics         21.893886\n",
              "charge_Other             15.887407\n",
              "charge_Robbery          -37.068702\n",
              "charge_Sexual Assault   -10.251452\n",
              "charge_Weapons            8.513574\n",
              "Gender_Male              -1.184364\n",
              "Gender_Unisex           -20.286813\n",
              "Gender_Unknown          -19.871271"
            ]
          },
          "metadata": {},
          "execution_count": 16
        }
      ]
    },
    {
      "cell_type": "code",
      "metadata": {
        "colab": {
          "base_uri": "https://localhost:8080/"
        },
        "id": "usWxgsz4Rd0u",
        "outputId": "5265242a-4345-4fa2-aba4-6c566acdee2b"
      },
      "source": [
        "predictions = model.predict(X_test)\n",
        "predictions"
      ],
      "execution_count": 17,
      "outputs": [
        {
          "output_type": "execute_result",
          "data": {
            "text/plain": [
              "array([324.89826742, 309.01086031, 330.90474616, 311.80229689,\n",
              "       305.79581816, 332.08910979, 382.76270511, 362.47589221,\n",
              "       382.76270511, 332.08910979, 309.01086031, 332.08910979,\n",
              "       326.08263106, 381.57834147, 317.52443453, 382.76270511,\n",
              "       382.76270511, 381.57834147, 326.08263106, 299.94377242,\n",
              "       299.94377242, 381.57834147, 382.76270511, 317.52443453,\n",
              "       298.75940878, 309.01086031, 381.57834147, 298.75940878,\n",
              "       310.19522395, 271.94215798, 324.89826742, 317.52443453,\n",
              "       271.94215798, 324.89826742, 326.08263106, 317.52443453,\n",
              "       326.08263106, 309.01086031, 330.90474616, 381.57834147,\n",
              "       298.42198527, 310.19522395, 332.08910979, 330.90474616,\n",
              "       273.12652162, 317.52443453, 310.19522395, 382.76270511,\n",
              "       381.57834147, 324.89826742, 317.52443453, 332.08910979,\n",
              "       271.94215798, 309.01086031, 271.94215798, 382.76270511,\n",
              "       273.12652162, 381.57834147, 271.94215798, 382.76270511,\n",
              "       382.76270511, 382.76270511, 290.32395328, 382.76270511,\n",
              "       382.76270511, 326.08263106, 381.57834147, 310.19522395,\n",
              "       382.76270511, 382.76270511, 326.08263106, 317.52443453,\n",
              "       299.94377242, 381.57834147, 381.57834147, 326.08263106,\n",
              "       298.75940878, 271.94215798, 271.94215798, 324.89826742,\n",
              "       330.90474616, 324.89826742, 299.94377242, 324.89826742,\n",
              "       382.76270511, 326.08263106, 324.89826742, 330.90474616,\n",
              "       326.08263106, 330.90474616, 326.08263106, 299.94377242,\n",
              "       271.94215798, 324.89826742, 326.08263106, 330.90474616,\n",
              "       382.76270511, 271.94215798, 298.75940878, 298.75940878,\n",
              "       382.76270511, 273.12652162, 382.76270511, 317.52443453,\n",
              "       324.89826742, 324.89826742, 324.89826742, 318.70879817,\n",
              "       271.94215798, 273.12652162, 381.57834147, 330.90474616,\n",
              "       298.75940878, 381.57834147, 318.70879817, 299.94377242,\n",
              "       318.70879817, 273.12652162, 309.01086031, 298.75940878,\n",
              "       299.94377242, 382.76270511, 298.75940878, 299.94377242,\n",
              "       326.08263106, 381.57834147, 326.08263106, 273.12652162,\n",
              "       299.94377242, 271.94215798, 310.19522395, 326.08263106,\n",
              "       324.89826742, 332.08910979, 273.12652162, 382.76270511,\n",
              "       382.76270511, 324.89826742, 330.90474616, 271.94215798,\n",
              "       381.57834147, 317.52443453, 310.19522395, 324.89826742,\n",
              "       298.75940878, 310.19522395, 271.94215798, 318.70879817,\n",
              "       299.94377242, 381.57834147, 381.57834147, 273.12652162,\n",
              "       298.75940878, 382.76270511, 381.57834147, 330.90474616,\n",
              "       330.90474616, 326.08263106, 273.12652162, 318.70879817,\n",
              "       318.70879817, 381.57834147, 299.94377242, 273.12652162,\n",
              "       318.70879817, 330.90474616, 326.08263106, 324.89826742,\n",
              "       382.76270511, 324.89826742, 382.76270511, 381.57834147,\n",
              "       381.57834147, 309.01086031, 382.76270511, 381.57834147,\n",
              "       309.01086031, 382.76270511, 382.76270511, 310.19522395,\n",
              "       326.08263106, 299.94377242, 290.32395328, 271.94215798,\n",
              "       381.57834147, 332.08910979, 324.89826742, 330.90474616,\n",
              "       309.01086031, 299.94377242, 382.76270511, 332.08910979,\n",
              "       382.76270511, 382.76270511, 382.76270511, 382.76270511,\n",
              "       332.08910979, 326.08263106, 271.94215798, 317.52443453,\n",
              "       382.76270511, 317.52443453, 381.57834147, 324.89826742,\n",
              "       330.90474616, 381.57834147, 273.12652162, 382.76270511,\n",
              "       326.08263106, 324.89826742, 382.76270511, 271.94215798,\n",
              "       324.89826742, 382.76270511, 381.57834147, 273.12652162,\n",
              "       382.76270511, 382.76270511, 317.52443453, 332.08910979,\n",
              "       326.08263106, 318.70879817, 271.94215798, 382.76270511,\n",
              "       279.65695952, 309.01086031, 273.12652162, 324.89826742,\n",
              "       330.90474616, 326.08263106, 299.94377242, 381.57834147,\n",
              "       382.76270511, 318.70879817, 381.57834147, 299.94377242,\n",
              "       271.94215798, 298.75940878, 381.57834147, 381.57834147,\n",
              "       309.01086031, 299.94377242, 309.01086031, 381.57834147,\n",
              "       324.89826742, 317.52443453, 326.08263106, 299.94377242,\n",
              "       299.94377242, 299.94377242, 299.94377242, 310.19522395,\n",
              "       326.08263106, 271.94215798, 382.76270511, 298.75940878,\n",
              "       332.08910979, 318.70879817, 382.76270511, 273.12652162,\n",
              "       381.57834147, 311.80229689, 382.76270511, 317.52443453,\n",
              "       309.01086031, 273.12652162, 330.90474616, 310.19522395,\n",
              "       298.75940878, 309.01086031, 273.12652162, 299.94377242,\n",
              "       317.52443453, 299.94377242, 382.76270511, 273.12652162,\n",
              "       330.90474616, 382.76270511, 273.12652162, 381.57834147,\n",
              "       324.89826742, 324.89826742, 381.57834147, 273.12652162,\n",
              "       326.08263106, 324.89826742, 381.57834147, 382.76270511,\n",
              "       271.94215798, 273.12652162, 382.76270511, 330.90474616,\n",
              "       299.94377242, 298.75940878, 326.08263106, 298.75940878,\n",
              "       273.12652162, 271.94215798, 326.08263106, 273.12652162,\n",
              "       326.08263106, 317.52443453, 289.90841105, 271.94215798,\n",
              "       330.90474616, 273.12652162, 299.94377242, 271.94215798,\n",
              "       382.76270511, 324.89826742, 382.76270511, 271.94215798,\n",
              "       309.01086031, 326.08263106, 318.70879817, 298.75940878,\n",
              "       298.75940878, 310.19522395, 317.52443453, 381.57834147,\n",
              "       317.52443453, 332.08910979, 252.83970872, 382.76270511,\n",
              "       318.70879817, 326.08263106, 382.76270511, 382.76270511,\n",
              "       381.57834147, 381.57834147, 271.94215798, 324.89826742,\n",
              "       381.57834147, 324.89826742, 324.89826742, 326.08263106,\n",
              "       330.90474616, 332.08910979, 310.19522395, 298.75940878,\n",
              "       318.70879817, 310.19522395, 324.89826742, 309.01086031,\n",
              "       382.76270511, 382.76270511, 317.52443453, 381.57834147,\n",
              "       299.94377242, 309.01086031, 310.19522395, 381.57834147,\n",
              "       382.76270511, 324.89826742, 298.75940878, 324.89826742,\n",
              "       309.01086031, 273.12652162, 273.12652162, 382.76270511,\n",
              "       310.19522395, 381.57834147, 310.19522395, 332.08910979,\n",
              "       290.32395328, 332.08910979, 299.94377242, 382.76270511,\n",
              "       381.57834147, 318.70879817, 326.08263106, 382.76270511,\n",
              "       317.52443453, 326.08263106, 381.57834147, 310.19522395,\n",
              "       330.90474616, 382.76270511, 382.76270511, 324.89826742,\n",
              "       382.76270511, 382.76270511, 382.76270511, 299.94377242,\n",
              "       252.83970872, 326.08263106, 273.12652162, 324.89826742,\n",
              "       382.76270511, 324.89826742, 299.94377242, 309.01086031,\n",
              "       318.70879817, 381.57834147, 309.01086031, 317.52443453,\n",
              "       330.90474616, 310.19522395, 382.76270511, 330.90474616,\n",
              "       273.12652162, 324.89826742, 310.19522395, 382.76270511,\n",
              "       330.90474616, 318.70879817, 299.94377242, 298.75940878,\n",
              "       309.01086031, 362.47589221, 326.08263106, 299.94377242,\n",
              "       298.75940878, 273.12652162, 273.12652162, 317.52443453,\n",
              "       289.90841105, 330.90474616, 271.94215798, 326.08263106,\n",
              "       310.19522395, 381.57834147, 330.90474616, 326.08263106,\n",
              "       271.94215798, 326.08263106, 324.89826742, 298.75940878,\n",
              "       310.19522395, 381.57834147, 326.08263106, 326.08263106,\n",
              "       381.57834147, 271.94215798, 317.52443453, 326.08263106,\n",
              "       330.90474616, 310.19522395, 326.08263106, 324.89826742,\n",
              "       299.94377242, 253.25525095, 317.52443453, 330.90474616,\n",
              "       271.94215798, 273.12652162, 381.57834147, 381.57834147,\n",
              "       309.01086031, 382.76270511, 381.57834147, 382.76270511,\n",
              "       332.08910979, 326.08263106, 382.76270511, 382.76270511,\n",
              "       326.08263106, 273.12652162, 299.94377242, 382.76270511,\n",
              "       332.08910979, 310.19522395, 324.89826742, 324.89826742,\n",
              "       382.76270511, 324.89826742, 326.08263106, 330.90474616,\n",
              "       332.08910979, 273.12652162, 310.19522395, 381.57834147,\n",
              "       324.89826742, 324.89826742, 330.90474616, 271.94215798,\n",
              "       362.89143444, 381.57834147, 271.94215798, 382.76270511,\n",
              "       273.12652162, 332.08910979, 324.89826742, 382.76270511,\n",
              "       309.01086031, 317.52443453, 324.89826742, 382.76270511,\n",
              "       381.57834147, 381.57834147, 381.57834147, 382.76270511,\n",
              "       299.94377242, 324.89826742, 382.76270511, 271.94215798,\n",
              "       324.89826742, 310.19522395, 381.57834147, 382.76270511,\n",
              "       309.01086031, 332.08910979, 324.89826742, 382.76270511,\n",
              "       362.47589221, 309.01086031, 381.57834147, 311.80229689,\n",
              "       382.76270511, 299.94377242, 326.08263106, 309.01086031,\n",
              "       299.94377242, 381.57834147, 318.70879817, 309.01086031,\n",
              "       318.70879817, 317.52443453, 326.08263106, 382.76270511,\n",
              "       271.94215798, 382.76270511, 326.08263106, 332.08910979,\n",
              "       298.75940878, 299.94377242, 273.12652162, 324.89826742,\n",
              "       326.08263106, 381.57834147, 330.90474616, 310.19522395,\n",
              "       326.08263106, 317.52443453, 271.94215798, 324.89826742,\n",
              "       324.89826742, 317.52443453, 279.65695952, 382.76270511,\n",
              "       271.94215798, 332.08910979, 330.90474616, 324.89826742,\n",
              "       326.08263106, 271.94215798, 273.12652162, 332.08910979,\n",
              "       382.76270511, 298.75940878, 279.65695952, 381.57834147,\n",
              "       330.90474616, 326.08263106, 279.65695952, 310.19522395,\n",
              "       382.76270511, 362.47589221, 273.12652162, 326.08263106,\n",
              "       332.08910979, 381.57834147, 382.76270511, 271.94215798,\n",
              "       332.08910979, 382.76270511, 299.94377242, 381.57834147,\n",
              "       299.94377242, 299.94377242, 318.70879817, 309.01086031,\n",
              "       381.57834147, 382.76270511, 309.01086031, 381.57834147,\n",
              "       330.90474616, 309.01086031, 318.70879817, 271.94215798,\n",
              "       382.76270511, 326.08263106, 273.12652162, 326.08263106,\n",
              "       310.19522395, 382.76270511, 273.12652162, 298.42198527,\n",
              "       310.19522395, 318.70879817, 326.08263106, 332.08910979,\n",
              "       382.76270511, 332.08910979, 324.89826742, 310.19522395,\n",
              "       273.12652162, 273.12652162, 317.52443453, 326.08263106,\n",
              "       381.57834147, 309.01086031, 382.76270511, 310.19522395,\n",
              "       332.08910979, 330.90474616, 318.70879817, 324.89826742,\n",
              "       381.57834147, 273.12652162, 362.89143444, 381.57834147,\n",
              "       273.12652162, 317.52443453, 382.76270511, 382.76270511,\n",
              "       298.75940878, 326.08263106, 299.94377242, 324.89826742,\n",
              "       309.01086031, 324.89826742, 298.75940878, 324.89826742,\n",
              "       381.57834147, 271.94215798, 382.76270511, 318.70879817,\n",
              "       324.89826742, 271.94215798, 381.57834147, 326.08263106,\n",
              "       317.52443453, 271.94215798, 324.89826742, 330.90474616,\n",
              "       381.57834147, 318.70879817, 381.57834147, 382.76270511,\n",
              "       271.94215798, 271.94215798, 310.19522395, 324.89826742,\n",
              "       382.76270511, 332.08910979, 318.70879817, 299.94377242,\n",
              "       310.19522395, 309.01086031, 318.70879817, 324.89826742,\n",
              "       382.76270511, 362.47589221, 318.70879817, 381.57834147,\n",
              "       318.70879817, 332.08910979, 318.70879817, 273.12652162,\n",
              "       299.94377242, 252.83970872, 326.08263106, 271.94215798,\n",
              "       273.12652162, 381.57834147, 271.94215798, 332.08910979,\n",
              "       381.57834147, 318.70879817, 330.90474616, 310.19522395,\n",
              "       381.57834147, 324.89826742, 381.57834147, 381.57834147,\n",
              "       324.89826742, 299.94377242, 332.08910979, 330.90474616,\n",
              "       310.19522395, 381.57834147, 318.70879817, 324.89826742,\n",
              "       332.08910979, 299.94377242, 324.89826742, 381.57834147,\n",
              "       381.57834147, 330.90474616, 273.12652162, 381.57834147,\n",
              "       382.76270511, 381.57834147, 309.01086031, 381.57834147,\n",
              "       299.94377242, 299.94377242, 271.94215798, 299.94377242,\n",
              "       273.12652162, 330.90474616, 381.57834147, 324.89826742,\n",
              "       381.57834147, 382.76270511, 381.57834147, 324.89826742,\n",
              "       381.57834147, 382.76270511, 271.94215798, 273.12652162,\n",
              "       298.75940878, 317.52443453, 306.21136039, 310.19522395,\n",
              "       382.76270511, 310.19522395, 362.47589221, 382.76270511,\n",
              "       309.01086031, 309.01086031, 309.01086031, 309.01086031,\n",
              "       298.75940878, 309.01086031, 273.12652162, 317.52443453,\n",
              "       271.94215798, 326.08263106, 271.94215798, 271.94215798,\n",
              "       252.83970872, 381.57834147, 271.94215798, 362.47589221,\n",
              "       273.12652162, 332.08910979, 317.52443453, 273.12652162,\n",
              "       318.70879817, 271.94215798, 332.08910979, 381.57834147,\n",
              "       271.94215798, 310.19522395, 381.57834147, 326.08263106,\n",
              "       326.08263106, 326.08263106, 271.94215798, 271.94215798,\n",
              "       382.76270511])"
            ]
          },
          "metadata": {},
          "execution_count": 17
        }
      ]
    },
    {
      "cell_type": "code",
      "metadata": {
        "colab": {
          "base_uri": "https://localhost:8080/",
          "height": 360
        },
        "id": "tQiuw-FCRkGy",
        "outputId": "f04c789a-fb83-454b-b4d0-5c63fc9b2379"
      },
      "source": [
        "sns.regplot(y_test,predictions)"
      ],
      "execution_count": 18,
      "outputs": [
        {
          "output_type": "stream",
          "name": "stderr",
          "text": [
            "/usr/local/lib/python3.7/dist-packages/seaborn/_decorators.py:43: FutureWarning: Pass the following variables as keyword args: x, y. From version 0.12, the only valid positional argument will be `data`, and passing other arguments without an explicit keyword will result in an error or misinterpretation.\n",
            "  FutureWarning\n"
          ]
        },
        {
          "output_type": "execute_result",
          "data": {
            "text/plain": [
              "<matplotlib.axes._subplots.AxesSubplot at 0x7f8313ea2250>"
            ]
          },
          "metadata": {},
          "execution_count": 18
        },
        {
          "output_type": "display_data",
          "data": {
            "image/png": "[encoded data removed]",
            "text/plain": [
              "<Figure size 432x288 with 1 Axes>"
            ]
          },
          "metadata": {}
        }
      ]
    },
    {
      "cell_type": "code",
      "metadata": {
        "colab": {
          "base_uri": "https://localhost:8080/"
        },
        "id": "6IL4gQwLRsRt",
        "outputId": "d19c4fe6-932f-463c-ee9e-3927ecdf1794"
      },
      "source": [
        "import statsmodels.api as sm\n",
        "X_train_Sm= sm.add_constant(X_train)\n",
        "X_train_Sm= sm.add_constant(X_train)\n",
        "ls=sm.OLS(y_train,X_train_Sm).fit()\n",
        "print(ls.summary())"
      ],
      "execution_count": 19,
      "outputs": [
        {
          "output_type": "stream",
          "name": "stderr",
          "text": [
            "/usr/local/lib/python3.7/dist-packages/statsmodels/tools/_testing.py:19: FutureWarning: pandas.util.testing is deprecated. Use the functions in the public API at pandas.testing instead.\n",
            "  import pandas.util.testing as tm\n"
          ]
        },
        {
          "output_type": "stream",
          "name": "stdout",
          "text": [
            "                            OLS Regression Results                            \n",
            "==============================================================================\n",
            "Dep. Variable:                 prep_h   R-squared:                       0.242\n",
            "Model:                            OLS   Adj. R-squared:                  0.236\n",
            "Method:                 Least Squares   F-statistic:                     39.77\n",
            "Date:                Sun, 05 Dec 2021   Prob (F-statistic):           9.34e-62\n",
            "Time:                        22:36:58   Log-Likelihood:                -6312.4\n",
            "No. Observations:                1129   AIC:                         1.264e+04\n",
            "Df Residuals:                    1119   BIC:                         1.270e+04\n",
            "Df Model:                           9                                         \n",
            "Covariance Type:            nonrobust                                         \n",
            "=========================================================================================\n",
            "                            coef    std err          t      P>|t|      [0.025      0.975]\n",
            "-----------------------------------------------------------------------------------------\n",
            "const                   310.1952      7.013     44.229      0.000     296.434     323.956\n",
            "charge_Murder            72.5675      7.605      9.542      0.000      57.645      87.490\n",
            "charge_Narcotics         21.8939      9.101      2.406      0.016       4.037      39.751\n",
            "charge_Other             15.8874      7.995      1.987      0.047       0.200      31.575\n",
            "charge_Robbery          -37.0687      8.476     -4.373      0.000     -53.699     -20.439\n",
            "charge_Sexual Assault   -10.2515      8.642     -1.186      0.236     -27.207       6.704\n",
            "charge_Weapons            8.5136      8.896      0.957      0.339      -8.940      25.967\n",
            "Gender_Male              -1.1844      4.020     -0.295      0.768      -9.071       6.702\n",
            "Gender_Unisex           -20.2868      9.633     -2.106      0.035     -39.187      -1.387\n",
            "Gender_Unknown          -19.8713     16.614     -1.196      0.232     -52.470      12.727\n",
            "==============================================================================\n",
            "Omnibus:                        4.656   Durbin-Watson:                   2.108\n",
            "Prob(Omnibus):                  0.097   Jarque-Bera (JB):                4.725\n",
            "Skew:                           0.147   Prob(JB):                       0.0942\n",
            "Kurtosis:                       2.884   Cond. No.                         11.4\n",
            "==============================================================================\n",
            "\n",
            "Warnings:\n",
            "[1] Standard Errors assume that the covariance matrix of the errors is correctly specified.\n"
          ]
        }
      ]
    }
  ]
}